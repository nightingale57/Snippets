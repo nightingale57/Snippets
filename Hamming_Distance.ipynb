{
 "cells": [
  {
   "cell_type": "code",
   "execution_count": 29,
   "metadata": {},
   "outputs": [],
   "source": [
    "def hamming_distance(index1:str, index2:str)->int:\n",
    "    '''\n",
    "    index1: \"TGCTCGAC\"\n",
    "    index2: \"CCAGTTAG\"\n",
    "    returns: 7\n",
    "    '''\n",
    "    hd = 0\n",
    "    for x1, x2 in zip(index1, index2):\n",
    "        if x1 != x2:\n",
    "            hd += 1\n",
    "    return hd\n"
   ]
  },
  {
   "cell_type": "code",
   "execution_count": 28,
   "metadata": {},
   "outputs": [],
   "source": [
    "assert hamming_distance(\"TGCTCGAC\", \"CCAGTTAG\") == 7 "
   ]
  },
  {
   "cell_type": "code",
   "execution_count": 85,
   "metadata": {},
   "outputs": [],
   "source": [
    "from itertools import combinations\n",
    "from typing import List\n",
    "\n",
    "def all_vs_all_indices(indices:List[str])->List[str]:\n",
    "    #combinations('ABCD', 2) --> AB AC AD BC BD CD\n",
    "    failed_barcodes = []\n",
    "    for index1, index2 in combinations(indices, 2): \n",
    "        # print(index1, index2)\n",
    "        # hd = min([hamming_distance(index1, index2) for index2 in i7 if hamming_distance(index1, index2) != 0])\n",
    "        hd = hamming_distance(index1, index2)\n",
    "        if hd < 3:\n",
    "            failed_barcodes.append((index1, index2))\n",
    "            print(f'These barcodes are too similar (hd={hd}): {index1}, {index2}')\n",
    "    if len(failed_barcodes) == 0:\n",
    "        print(\"All indices have sufficient Hamming Distance.\")\n",
    "\n",
    "    return failed_barcodes\n",
    "            "
   ]
  },
  {
   "cell_type": "code",
   "execution_count": 86,
   "metadata": {},
   "outputs": [
    {
     "name": "stdout",
     "output_type": "stream",
     "text": [
      "All indices have sufficient Hamming Distance.\n"
     ]
    },
    {
     "data": {
      "text/plain": "0"
     },
     "execution_count": 86,
     "metadata": {},
     "output_type": "execute_result"
    }
   ],
   "source": [
    "len(all_vs_all_indices(i7))"
   ]
  },
  {
   "cell_type": "code",
   "execution_count": 93,
   "metadata": {},
   "outputs": [
    {
     "name": "stdout",
     "output_type": "stream",
     "text": [
      "All indices have sufficient Hamming Distance.\n"
     ]
    },
    {
     "data": {
      "text/plain": "[]"
     },
     "execution_count": 93,
     "metadata": {},
     "output_type": "execute_result"
    }
   ],
   "source": [
    "all_vs_all_indices(i7)"
   ]
  },
  {
   "cell_type": "code",
   "execution_count": 94,
   "metadata": {},
   "outputs": [
    {
     "name": "stdout",
     "output_type": "stream",
     "text": [
      "These barcodes are too similar (hd=2): TTAAGGAT, TCAAGGAC\n",
      "These barcodes are too similar (hd=2): AAGAACCG, AAGCACTG\n",
      "These barcodes are too similar (hd=2): TAATAGCA, TGATACCA\n"
     ]
    },
    {
     "data": {
      "text/plain": "[('TTAAGGAT', 'TCAAGGAC'), ('AAGAACCG', 'AAGCACTG'), ('TAATAGCA', 'TGATACCA')]"
     },
     "execution_count": 94,
     "metadata": {},
     "output_type": "execute_result"
    }
   ],
   "source": [
    "all_vs_all_indices(i5)"
   ]
  },
  {
   "cell_type": "code",
   "execution_count": 45,
   "metadata": {},
   "outputs": [],
   "source": [
    "for index1 in i7:\n",
    "    for index2 in i7:\n",
    "        if hamming_distance(index1, index2) != 0:\n",
    "            hd = min([hamming_distance(index1, index2)])\n",
    "            if hd < 3:\n",
    "                print('This barcode fails')"
   ]
  },
  {
   "cell_type": "code",
   "execution_count": null,
   "metadata": {},
   "outputs": [],
   "source": []
  },
  {
   "cell_type": "code",
   "execution_count": null,
   "metadata": {},
   "outputs": [],
   "source": []
  }
 ],
 "metadata": {
  "kernelspec": {
   "display_name": "Python 3.7.4 64-bit ('base': conda)",
   "name": "python374jvsc74a57bd0dca0ade3e726a953b501b15e8e990130d2b7799f14cfd9f4271676035ebe5511"
  },
  "language_info": {
   "codemirror_mode": {
    "name": "ipython",
    "version": 3
   },
   "file_extension": ".py",
   "mimetype": "text/x-python",
   "name": "python",
   "nbconvert_exporter": "python",
   "pygments_lexer": "ipython3",
   "version": "3.7.4"
  },
  "orig_nbformat": 2
 },
 "nbformat": 4,
 "nbformat_minor": 2
}