{
 "cells": [
  {
   "cell_type": "code",
   "execution_count": 34,
   "metadata": {},
   "outputs": [],
   "source": [
    "seq = \"AACAGCGA\""
   ]
  },
  {
   "cell_type": "code",
   "execution_count": 35,
   "metadata": {},
   "outputs": [],
   "source": [
    "def rev_comp(seq):\n",
    "    rev_comp = \"\"\n",
    "    for x in seq:\n",
    "        if x.upper() == \"A\":\n",
    "            rev_comp += \"T\"\n",
    "        if x.upper() == \"C\":\n",
    "            rev_comp += \"G\"\n",
    "        if x.upper() == \"G\":\n",
    "            rev_comp += \"C\"\n",
    "        if x.upper() == \"T\":\n",
    "            rev_comp += \"A\"\n",
    "    return rev_comp\n"
   ]
  },
  {
   "cell_type": "code",
   "execution_count": 36,
   "metadata": {},
   "outputs": [
    {
     "name": "stdout",
     "output_type": "stream",
     "text": [
      "TTGTCGCT\n"
     ]
    }
   ],
   "source": [
    "print(rev_comp(seq))"
   ]
  },
  {
   "cell_type": "code",
   "execution_count": null,
   "metadata": {},
   "outputs": [],
   "source": []
  }
 ],
 "metadata": {
  "kernelspec": {
   "display_name": "Python 3",
   "language": "python",
   "name": "python3"
  },
  "language_info": {
   "codemirror_mode": {
    "name": "ipython",
    "version": 3
   },
   "file_extension": ".py",
   "mimetype": "text/x-python",
   "name": "python",
   "nbconvert_exporter": "python",
   "pygments_lexer": "ipython3",
   "version": "3.7.4"
  }
 },
 "nbformat": 4,
 "nbformat_minor": 2
}